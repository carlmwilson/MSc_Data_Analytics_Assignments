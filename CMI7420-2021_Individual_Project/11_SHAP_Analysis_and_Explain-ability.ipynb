{
 "cells": [
  {
   "cell_type": "code",
   "execution_count": null,
   "id": "0e3537fa",
   "metadata": {},
   "outputs": [],
   "source": [
    "#import libraries for manipulating and plotting data\n",
    "import pandas as pd\n",
    "from scipy import stats\n",
    "\n",
    "import plotly.graph_objects as go\n",
    "import plotly.io as pio\n",
    "\n",
    "pio.templates.default=\"simple_white\"\n",
    "\n",
    "from progtools.visuals import shap_interaction_plot, time_plot"
   ]
  },
  {
   "cell_type": "markdown",
   "id": "d6208fc7",
   "metadata": {},
   "source": [
    "# 9 Parameter Model"
   ]
  },
  {
   "cell_type": "code",
   "execution_count": null,
   "id": "1df7056d",
   "metadata": {},
   "outputs": [],
   "source": [
    "#load the SHAP values in from .csv\n",
    "df_s_9 = pd.read_csv(\"SHAP_Values_9_Model.csv\",index_col=0)\n",
    "\n",
    "#import the expected or base value for the 9-parameter model\n",
    "expected_value_9 = 33.798397"
   ]
  },
  {
   "cell_type": "markdown",
   "id": "745527fe",
   "metadata": {},
   "source": [
    "### Mean Absolute Impact on model output magnitude"
   ]
  },
  {
   "cell_type": "code",
   "execution_count": null,
   "id": "be06818e",
   "metadata": {},
   "outputs": [],
   "source": [
    "#create labels to calculate average shap values for physical sensors\n",
    "labels = [\"T50_SHAP\",\"T48_SHAP\",\"P40_SHAP\",\"T30_SHAP\",\"Ps30_SHAP\",\"P50_SHAP\",\"Wf_SHAP\",\"T24_SHAP\",\"P24_SHAP\"]\n",
    "\n",
    "#create an empty list to store average shap values\n",
    "values = []\n",
    "\n",
    "#loop through all labels\n",
    "for i in labels:\n",
    "    #calculate average shap value for given label\n",
    "    val = 1/len(df_s_9[i])*df_s_9[i].sum()\n",
    "    \n",
    "    #apppend absolute average shap value to list\n",
    "    values.append(abs(val))\n",
    "\n",
    "#create a horizontal bar chart of labels and mean absolute SHAP values\n",
    "fig = go.Figure([go.Bar(y=labels,x=values,orientation=\"h\")])\n",
    "\n",
    "#update y axes label\n",
    "fig.update_yaxes(autorange=\"reversed\",title=\"Sensor\")\n",
    "\n",
    "#update x axes label\n",
    "fig.update_xaxes(title=\"mean(|SHAP value|) [average impact on model output magnitude]\")\n",
    "fig.show()"
   ]
  },
  {
   "cell_type": "code",
   "execution_count": null,
   "id": "377ea22d",
   "metadata": {},
   "outputs": [],
   "source": [
    "#create labels to calculate average shap values for scenario descriptors\n",
    "labels = [\"TRA_SHAP\",\"alt_SHAP\",\"Mach_SHAP\",\"T2_SHAP\"]\n",
    "\n",
    "#create an empty list to store average shap values\n",
    "values = []\n",
    "\n",
    "#loop through all labels\n",
    "for i in labels:\n",
    "    #calculate average shap value for given label\n",
    "    val = 1/len(df_s_9[i])*df_s_9[i].sum()\n",
    "    \n",
    "    #apppend absolute average shap value to list\n",
    "    values.append(abs(val))\n",
    "\n",
    "#create a horizontal bar chart of labels and mean absolute SHAP values\n",
    "fig = go.Figure([go.Bar(y=labels,x=values,orientation=\"h\")])\n",
    "\n",
    "#update y axes label\n",
    "fig.update_yaxes(autorange=\"reversed\",title=\"Flight Descriptor\")\n",
    "\n",
    "#update x axes label\n",
    "fig.update_xaxes(title=\"mean(|SHAP value|) [average impact on model output magnitude]\")\n",
    "fig.show()"
   ]
  },
  {
   "cell_type": "markdown",
   "id": "def90b3b",
   "metadata": {},
   "source": [
    "### SHAP Interaction plots"
   ]
  },
  {
   "cell_type": "code",
   "execution_count": null,
   "id": "8f0d14b1",
   "metadata": {},
   "outputs": [],
   "source": [
    "#SHAP interaction plot of T50, T50_SHAP with TRA for unit 1 and cycle 7.\n",
    "shap_interaction_plot(df_s_9[(df_s_9[\"unit\"]==1)&(df_s_9[\"cycle\"]==7)],\n",
    "                     \"T50\",\n",
    "                     \"T50_SHAP\",\n",
    "                     \"TRA\")"
   ]
  },
  {
   "cell_type": "code",
   "execution_count": null,
   "id": "3db2b520",
   "metadata": {},
   "outputs": [],
   "source": [
    "#SHAP interaction plot of T24, T24_SHAP with TRA for unit 1 and cycle 7.\n",
    "shap_interaction_plot(df_s_9[(df_s_9[\"unit\"]==1)&(df_s_9[\"cycle\"]==7)],\n",
    "                     \"T24\",\n",
    "                     \"T24_SHAP\",\n",
    "                     \"T48_SHAP\")"
   ]
  },
  {
   "cell_type": "code",
   "execution_count": null,
   "id": "99c2323e",
   "metadata": {
    "scrolled": false
   },
   "outputs": [],
   "source": [
    "#time plot of T50 SHAP values at altitidue for unit 1, cycle 7\n",
    "time_plot(df_s_9[(df_s_9[\"unit\"]==1)&(df_s_9[\"cycle\"]==7)], \"alt\", \"T50_SHAP\")"
   ]
  },
  {
   "cell_type": "code",
   "execution_count": null,
   "id": "caedfe2f",
   "metadata": {},
   "outputs": [],
   "source": [
    "#time plot of T50 SHAP values at altitidue for unit 1, cycle 7\n",
    "time_plot(df_s_9[(df_s_9[\"unit\"]==1)&(df_s_9[\"cycle\"]==7)], \"alt\", \"T24_SHAP\")"
   ]
  },
  {
   "cell_type": "markdown",
   "id": "770fb91e",
   "metadata": {},
   "source": [
    "**Correlation between T48 and T50 for unit 1, cycle 7:**"
   ]
  },
  {
   "cell_type": "code",
   "execution_count": null,
   "id": "ce27b925",
   "metadata": {},
   "outputs": [],
   "source": [
    "#complete Spearman R correlation between T48 and T50 for unit 1, cycle 7\n",
    "rho, p = stats.spearmanr(df_s_9[(df_s_9[\"unit\"]==1)&(df_s_9[\"cycle\"]==7)][\"T48\"],\n",
    "                         df_s_9[(df_s_9[\"unit\"]==1)&(df_s_9[\"cycle\"]==7)][\"T50\"])\n",
    "\n",
    "print(f\"Test Stat: {rho:.3f} / P-Value: {p:.3f}\")"
   ]
  },
  {
   "cell_type": "markdown",
   "id": "028840ec",
   "metadata": {},
   "source": [
    "**Correlation between T48 and T50 for unit1, cycle 79:**"
   ]
  },
  {
   "cell_type": "code",
   "execution_count": null,
   "id": "56d9de3e",
   "metadata": {},
   "outputs": [],
   "source": [
    "#complete Spearman R correlation between T48 and T50 for unit 1, cycle 80\n",
    "rho, p = stats.spearmanr(df_s_9[(df_s_9[\"unit\"]==1)&(df_s_9[\"cycle\"]==79)][\"T48\"],\n",
    "                         df_s_9[(df_s_9[\"unit\"]==1)&(df_s_9[\"cycle\"]==79)][\"T50\"])\n",
    "\n",
    "print(f\"Test Stat: {rho:.3f} / P-Value: {p:.3f}\")"
   ]
  },
  {
   "cell_type": "markdown",
   "id": "3ef2d69c",
   "metadata": {},
   "source": [
    "**Correlation between T24 and T48 for unit 1, cycle 7:**"
   ]
  },
  {
   "cell_type": "code",
   "execution_count": null,
   "id": "98bbb0b5",
   "metadata": {},
   "outputs": [],
   "source": [
    "#complete Spearman R correlation between T24 and T50 for unit 1, cycle 7\n",
    "rho, p = stats.spearmanr(df_s_9[(df_s_9[\"unit\"]==1)&(df_s_9[\"cycle\"]==7)][\"T24\"],\n",
    "                         df_s_9[(df_s_9[\"unit\"]==1)&(df_s_9[\"cycle\"]==7)][\"T50\"])\n",
    "\n",
    "print(f\"Test Stat: {rho:.3f} / P-Value: {p:.3f}\")"
   ]
  },
  {
   "cell_type": "markdown",
   "id": "94bdfee3",
   "metadata": {},
   "source": [
    "**Correlation between T24 and T48 for unit 1, cycle 79:**"
   ]
  },
  {
   "cell_type": "code",
   "execution_count": null,
   "id": "9a3040a7",
   "metadata": {},
   "outputs": [],
   "source": [
    "#complete Spearman R correlation between T24 and T50 for unit 1, cycle 80\n",
    "rho, p = stats.spearmanr(df_s_9[(df_s_9[\"unit\"]==1)&(df_s_9[\"cycle\"]==79)][\"T24\"],\n",
    "                         df_s_9[(df_s_9[\"unit\"]==1)&(df_s_9[\"cycle\"]==79)][\"T50\"])\n",
    "\n",
    "print(f\"Test Stat: {rho:.3f} / P-Value: {p:.3f}\")"
   ]
  },
  {
   "cell_type": "markdown",
   "id": "7acd84ca",
   "metadata": {},
   "source": [
    "**Scatter plot of T50 versus T48, with colours of T50 SHAP values**\n",
    "<br>The two sensors are more independent, hence provide different information to the algorithm"
   ]
  },
  {
   "cell_type": "code",
   "execution_count": null,
   "id": "0b8e20e7",
   "metadata": {},
   "outputs": [],
   "source": [
    "#interaction plot of T48 and T50 with T50 SHAP values for unit 1, cycle 7\n",
    "shap_interaction_plot(df_s_9[(df_s_9[\"unit\"]==1)&(df_s_9[\"cycle\"]==7)],\n",
    "                     \"T48\",\n",
    "                     \"T50\",\n",
    "                     \"T50_SHAP\")"
   ]
  },
  {
   "cell_type": "markdown",
   "id": "7725f6fc",
   "metadata": {},
   "source": [
    "**Scatter plot of T50 versus T24, with colours of T50 SHAP values**\n",
    "<br>It can be seen how closely the two sensors correlate; hence do not provide different information to the algorithm"
   ]
  },
  {
   "cell_type": "code",
   "execution_count": null,
   "id": "0042c042",
   "metadata": {},
   "outputs": [],
   "source": [
    "#interaction plot of T24 and T50 with T50 SHAP values for unit 1, cycle 7\n",
    "shap_interaction_plot(df_s_9[(df_s_9[\"unit\"]==1)&(df_s_9[\"cycle\"]==7)],\n",
    "                     \"T24\",\n",
    "                     \"T50\",\n",
    "                     \"T50_SHAP\")"
   ]
  },
  {
   "cell_type": "markdown",
   "id": "c144b6a5",
   "metadata": {},
   "source": [
    "**Correlation between T50 and Wf for unit 1, cycle 7:**"
   ]
  },
  {
   "cell_type": "code",
   "execution_count": null,
   "id": "36a14db8",
   "metadata": {},
   "outputs": [],
   "source": [
    "#complete Spearman R correlation between Wf and T50 for unit 1, cycle 7\n",
    "rho, p = stats.spearmanr(df_s_9[(df_s_9[\"unit\"]==1)&(df_s_9[\"cycle\"]==7)][\"Wf\"],\n",
    "                         df_s_9[(df_s_9[\"unit\"]==1)&(df_s_9[\"cycle\"]==7)][\"T50\"])\n",
    "\n",
    "print(f\"Test Stat: {rho:.3f} / P-Value: {p:.3f}\")"
   ]
  },
  {
   "cell_type": "markdown",
   "id": "eb8452fa",
   "metadata": {},
   "source": [
    "**Correlation between T50 and Wf for unit 1, cycle 79:**"
   ]
  },
  {
   "cell_type": "code",
   "execution_count": null,
   "id": "410ed0c8",
   "metadata": {},
   "outputs": [],
   "source": [
    "#complete Spearman R correlation between Wf and T50 for unit 1, cycle 80\n",
    "rho, p = stats.spearmanr(df_s_9[(df_s_9[\"unit\"]==1)&(df_s_9[\"cycle\"]==79)][\"Wf\"],\n",
    "                         df_s_9[(df_s_9[\"unit\"]==1)&(df_s_9[\"cycle\"]==79)][\"T50\"])\n",
    "\n",
    "print(f\"Test Stat: {rho:.3f} / P-Value: {p:.3f}\")"
   ]
  },
  {
   "cell_type": "markdown",
   "id": "c5da3238",
   "metadata": {},
   "source": [
    "**Scatter plot of T50 versus Wf, with colours of T50 SHAP values**\n",
    "<br> While there is some non-linearity, providing some fresh information to the algo - they're still very tightly correlated:"
   ]
  },
  {
   "cell_type": "code",
   "execution_count": null,
   "id": "bc9d8784",
   "metadata": {},
   "outputs": [],
   "source": [
    "#interaction plot of Wf and T50 with T50 SHAP values for unit 1, cycle 7\n",
    "shap_interaction_plot(df_s_9[(df_s_9[\"unit\"]==1)&(df_s_9[\"cycle\"]==7)],\n",
    "                     \"Wf\",\n",
    "                     \"T50\",\n",
    "                     \"T50_SHAP\")"
   ]
  },
  {
   "cell_type": "markdown",
   "id": "fca70f55",
   "metadata": {},
   "source": [
    "**Correlation between T50 and P40 for unit 1, cycle 7**"
   ]
  },
  {
   "cell_type": "code",
   "execution_count": null,
   "id": "577e6236",
   "metadata": {
    "scrolled": true
   },
   "outputs": [],
   "source": [
    "#complete Spearman R correlation between P40 and T50 for unit 1, cycle 7\n",
    "rho, p = stats.spearmanr(df_s_9[(df_s_9[\"unit\"]==1)&(df_s_9[\"cycle\"]==7)][\"P40\"],\n",
    "                         df_s_9[(df_s_9[\"unit\"]==1)&(df_s_9[\"cycle\"]==7)][\"T50\"])\n",
    "\n",
    "print(f\"Test Stat: {rho:.3f} / P-Value: {p:.3f}\")"
   ]
  },
  {
   "cell_type": "markdown",
   "id": "0709627b",
   "metadata": {},
   "source": [
    "**Correlation between T50 and P40 for unit 1, cycle 79**"
   ]
  },
  {
   "cell_type": "code",
   "execution_count": null,
   "id": "2dce5c3c",
   "metadata": {},
   "outputs": [],
   "source": [
    "#complete Spearman R correlation between P40 and T50 for unit 1, cycle 79\n",
    "rho, p = stats.spearmanr(df_s_9[(df_s_9[\"unit\"]==1)&(df_s_9[\"cycle\"]==79)][\"P40\"],\n",
    "                         df_s_9[(df_s_9[\"unit\"]==1)&(df_s_9[\"cycle\"]==79)][\"T50\"])\n",
    "\n",
    "print(f\"Test Stat: {rho:.3f} / P-Value: {p:.3f}\")"
   ]
  },
  {
   "cell_type": "code",
   "execution_count": null,
   "id": "36040e66",
   "metadata": {},
   "outputs": [],
   "source": [
    "#interaction plot of P40 and T50 with T50 SHAP values for unit 1, cycle 7\n",
    "shap_interaction_plot(df_s_9[(df_s_9[\"unit\"]==1)&(df_s_9[\"cycle\"]==7)],\n",
    "                     \"P40\",\n",
    "                     \"T50\",\n",
    "                     \"T50_SHAP\")"
   ]
  },
  {
   "cell_type": "code",
   "execution_count": null,
   "id": "9ea79a7f",
   "metadata": {},
   "outputs": [],
   "source": [
    "#select a unit for analysis\n",
    "\n",
    "unit = 1\n",
    "cycle = 79\n",
    "\n",
    "#create a list of labels for waterfall plot\n",
    "labels = [\"base_value\",\n",
    "          \"T50_SHAP\",\"TRA_SHAP\",\"T48_SHAP\",\"P40_SHAP\",\"T30_SHAP\",\"P50_SHAP\",\"T2_SHAP\",\"Ps30_SHAP\",\"alt_SHAP\",\"Mach_SHAP\",\"P24_SHAP\",\"Wf_SHAP\",\"T24_SHAP\",\n",
    "          \"Prediction\"]\n",
    "\n",
    "#import base / expected value\n",
    "values = [expected_value_9]\n",
    "\n",
    "#cycle through labels, ignoring base_value and prediction\n",
    "for i in labels:\n",
    "    if i == \"base_value\":\n",
    "        pass\n",
    "    elif i == \"Prediction\":\n",
    "        pass\n",
    "    else:\n",
    "        #sum up to 2dp the shap values for that given unit and cycle\n",
    "        val = round(df_s_9[(df_s_9[\"unit\"]==unit)&(df_s_9[\"cycle\"]==cycle)][i].sum(),2)\n",
    "        #append the cacluated SHAP value\n",
    "        values.append(val)\n",
    "\n",
    "#append a sum of all values in list as the prediction\n",
    "values.append(round(sum(values),4))\n",
    "\n",
    "#create a waterfall plot\n",
    "fig = go.Figure(go.Waterfall(\n",
    "    #set the orientation to vertical\n",
    "    orientation=\"v\",\n",
    "    #set if each value is relative or a total value\n",
    "    measure = [\"relative\",\"relative\",\"relative\",\"relative\",\"relative\",\"relative\",\"relative\"\n",
    "              ,\"relative\",\"relative\",\"relative\",\"relative\",\"relative\",\"relative\",\"relative\",\n",
    "              \"total\"],\n",
    "    #set the sensor labels as the x axes\n",
    "    x = labels,\n",
    "    #set the sensor SHAP values as the y axes\n",
    "    y = values,\n",
    "    #include the values as text outside the bars\n",
    "    text = values,\n",
    "    textposition = \"outside\",\n",
    "    connector = {\"line\":{\"color\":\"rgb(63,63,63)\"}},\n",
    "))\n",
    "\n",
    "#update the figure with a suitable title\n",
    "fig.update_layout(title=f\"Waterfall Plot of SHAP Values for Unit {unit}, Cycle {cycle}\")\n",
    "#set the yaxes with a suitable label\n",
    "fig.update_yaxes(title=\"RUL Prediction\")\n",
    "fig.show()"
   ]
  },
  {
   "cell_type": "markdown",
   "id": "b96f9242",
   "metadata": {},
   "source": [
    "# 14 Parameter Model"
   ]
  },
  {
   "cell_type": "code",
   "execution_count": null,
   "id": "2695ae85",
   "metadata": {},
   "outputs": [],
   "source": [
    "#load the SHAP values in from .csv\n",
    "df_s_14 = pd.read_csv(\"SHAP_Values_14_Model.csv\",index_col=0)\n",
    "\n",
    "#immport expected / base value for prediction\n",
    "expected_value_14 = 34.000397"
   ]
  },
  {
   "cell_type": "code",
   "execution_count": null,
   "id": "a44c3b66",
   "metadata": {},
   "outputs": [],
   "source": [
    "#create labels to calculate average shap values for physical sensors\n",
    "labels = [\"T50_SHAP\",\"T48_SHAP\",\"T30_SHAP\",\"Ps30_SHAP\",\"P40_SHAP\",\"P50_SHAP\",\"P2_SHAP\",\n",
    "          \"Nf_SHAP\",\"Wf_SHAP\", \"T24_SHAP\",\"P21_SHAP\",\"Nc_SHAP\",\"P24_SHAP\",\"P15_SHAP\"]\n",
    "\n",
    "#create an empty list to store average shap values\n",
    "values = []\n",
    "\n",
    "#loop through all labels\n",
    "for i in labels:\n",
    "    #calculate average shap value for given label\n",
    "    val = 1/len(df_s_14[i])*df_s_14[i].sum()\n",
    "    \n",
    "    #apppend absolute average shap value to list\n",
    "    values.append(abs(val))\n",
    "\n",
    "#create a horizontal bar chart of labels and mean absolute SHAP values\n",
    "fig = go.Figure([go.Bar(y=labels,x=values,orientation=\"h\")])\n",
    "\n",
    "#update y axes label\n",
    "fig.update_yaxes(autorange=\"reversed\",title=\"Sensor\")\n",
    "\n",
    "#update x axes label\n",
    "fig.update_xaxes(title=\"mean(|SHAP value|) [average impact on model output magnitude]\")\n",
    "fig.show()"
   ]
  },
  {
   "cell_type": "code",
   "execution_count": null,
   "id": "a33c86ff",
   "metadata": {},
   "outputs": [],
   "source": [
    "#create labels to calculate average shap values for scenario descriptors\n",
    "labels = [\"T2_SHAP\",\"alt_SHAP\",\"TRA_SHAP\",\"Mach_SHAP\",]\n",
    "\n",
    "#create an empty list to store average shap values\n",
    "values = []\n",
    "\n",
    "#loop through all labels\n",
    "for i in labels:\n",
    "    #calculate average shap value for given label\n",
    "    val = 1/len(df_s_14[i])*df_s_14[i].sum()\n",
    "    \n",
    "    #apppend absolute average shap value to list\n",
    "    values.append(abs(val))\n",
    "\n",
    "#create a horizontal bar chart of labels and mean absolute SHAP values\n",
    "fig = go.Figure([go.Bar(y=labels,x=values,orientation=\"h\")])\n",
    "\n",
    "#update y axes label\n",
    "fig.update_yaxes(autorange=\"reversed\",title=\"Flight Descriptor\")\n",
    "\n",
    "#update x axes label\n",
    "fig.update_xaxes(title=\"mean(|SHAP value|) [average impact on model output magnitude]\")\n",
    "fig.show()"
   ]
  },
  {
   "cell_type": "markdown",
   "id": "602b4f62",
   "metadata": {},
   "source": [
    "### SHAP Interaction plots"
   ]
  },
  {
   "cell_type": "code",
   "execution_count": null,
   "id": "56527691",
   "metadata": {},
   "outputs": [],
   "source": [
    "#interaction plot of Nf and T50 with T50 SHAP values for unit 1, cycle 5\n",
    "shap_interaction_plot(df_s_14[(df_s_14[\"unit\"]==1)&(df_s_14[\"cycle\"]==5)],\n",
    "                     \"Nf\",\n",
    "                     \"T50\",\n",
    "                     \"T50_SHAP\")"
   ]
  },
  {
   "cell_type": "code",
   "execution_count": null,
   "id": "82469e14",
   "metadata": {},
   "outputs": [],
   "source": [
    "#interaction plot of P2 and T50 with T50 SHAP values for unit 1, cycle 5\n",
    "shap_interaction_plot(df_s_14[(df_s_14[\"unit\"]==1)&(df_s_14[\"cycle\"]==5)],\n",
    "                     \"P2\",\n",
    "                     \"T50\",\n",
    "                     \"P50_SHAP\")"
   ]
  },
  {
   "cell_type": "code",
   "execution_count": null,
   "id": "92edd445",
   "metadata": {},
   "outputs": [],
   "source": [
    "#complete Spearman R correlation between Nf and T50 for unit 1, cycle 5\n",
    "rho, p = stats.spearmanr(df_s_14[(df_s_14[\"unit\"]==1)&(df_s_14[\"cycle\"]==5)][\"Nf\"],\n",
    "                         df_s_14[(df_s_14[\"unit\"]==1)&(df_s_14[\"cycle\"]==5)][\"T50\"])\n",
    "\n",
    "print(f\"Test Stat: {rho:.3f} / P-Value: {p:.3f}\")"
   ]
  },
  {
   "cell_type": "code",
   "execution_count": null,
   "id": "3f72a9d9",
   "metadata": {},
   "outputs": [],
   "source": [
    "#complete Spearman R correlation between Nf and T50 for unit 1, cycle 79\n",
    "rho, p = stats.spearmanr(df_s_14[(df_s_14[\"unit\"]==1)&(df_s_14[\"cycle\"]==79)][\"Nf\"],\n",
    "                         df_s_14[(df_s_14[\"unit\"]==1)&(df_s_14[\"cycle\"]==79)][\"T50\"])\n",
    "\n",
    "print(f\"Test Stat: {rho:.3f} / P-Value: {p:.3f}\")"
   ]
  },
  {
   "cell_type": "code",
   "execution_count": null,
   "id": "b3c42723",
   "metadata": {},
   "outputs": [],
   "source": [
    "#complete Spearman R correlation between P2 and T50 for unit 1, cycle 5\n",
    "rho, p = stats.spearmanr(df_s_14[(df_s_14[\"unit\"]==1)&(df_s_14[\"cycle\"]==5)][\"P2\"],\n",
    "                         df_s_14[(df_s_14[\"unit\"]==1)&(df_s_14[\"cycle\"]==5)][\"T50\"])\n",
    "\n",
    "print(f\"Test Stat: {rho:.3f} / P-Value: {p:.3f}\")"
   ]
  },
  {
   "cell_type": "code",
   "execution_count": null,
   "id": "f73d1d7c",
   "metadata": {},
   "outputs": [],
   "source": [
    "#complete Spearman R correlation between P2 and T50 for unit 1, cycle 79\n",
    "rho, p = stats.spearmanr(df_s_14[(df_s_14[\"unit\"]==1)&(df_s_14[\"cycle\"]==79)][\"P2\"],\n",
    "                         df_s_14[(df_s_14[\"unit\"]==1)&(df_s_14[\"cycle\"]==79)][\"T50\"])\n",
    "\n",
    "print(f\"Test Stat: {rho:.3f} / P-Value: {p:.3f}\")"
   ]
  },
  {
   "cell_type": "markdown",
   "id": "305b3539",
   "metadata": {},
   "source": [
    "### Time plots"
   ]
  },
  {
   "cell_type": "code",
   "execution_count": null,
   "id": "2aa9ac80",
   "metadata": {},
   "outputs": [],
   "source": [
    "#time plot of T50 SHAP values at altitidue for unit 1, cycle 5\n",
    "time_plot(df_s_14[(df_s_14[\"unit\"]==1)&(df_s_14[\"cycle\"]==5)], \"alt\", \"Nf_SHAP\")"
   ]
  },
  {
   "cell_type": "code",
   "execution_count": null,
   "id": "23b87079",
   "metadata": {},
   "outputs": [],
   "source": [
    "#time plot of T50 SHAP values at altitidue for unit 1, cycle 79\n",
    "time_plot(df_s_14[(df_s_14[\"unit\"]==1)&(df_s_14[\"cycle\"]==79)], \"alt\", \"Nf_SHAP\")"
   ]
  },
  {
   "cell_type": "code",
   "execution_count": null,
   "id": "cfac55f8",
   "metadata": {},
   "outputs": [],
   "source": []
  }
 ],
 "metadata": {
  "kernelspec": {
   "display_name": "Python 3 (ipykernel)",
   "language": "python",
   "name": "python3"
  },
  "language_info": {
   "codemirror_mode": {
    "name": "ipython",
    "version": 3
   },
   "file_extension": ".py",
   "mimetype": "text/x-python",
   "name": "python",
   "nbconvert_exporter": "python",
   "pygments_lexer": "ipython3",
   "version": "3.9.15"
  }
 },
 "nbformat": 4,
 "nbformat_minor": 5
}
