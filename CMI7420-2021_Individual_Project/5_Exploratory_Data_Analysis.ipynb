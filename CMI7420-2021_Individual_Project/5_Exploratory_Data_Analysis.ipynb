{
 "cells": [
  {
   "cell_type": "code",
   "execution_count": null,
   "id": "23adf3d8",
   "metadata": {},
   "outputs": [],
   "source": [
    "import numpy as np\n",
    "import pandas as pd\n",
    "\n",
    "import plotly.express as px\n",
    "import plotly.io as pio\n",
    "\n",
    "pio.templates.default=\"simple_white\"\n",
    "\n",
    "from progtools.preprocessing import RawFlightData\n",
    "from progtools.visuals import plot_df_color_per_unit, matrix_plot"
   ]
  },
  {
   "cell_type": "code",
   "execution_count": null,
   "id": "e62bc96f",
   "metadata": {},
   "outputs": [],
   "source": [
    "#read the raw flight data in\n",
    "filename = \"data/N-CMAPSS_DS05.h5\"\n",
    "raw_data_read = RawFlightData(filename=filename)\n",
    "\n",
    "#create data frames for flight, sensor and auxiliary data [respectively]\n",
    "df_W = raw_data_read.all_flight_data()\n",
    "df_X_s = raw_data_read.all_sensor_data()\n",
    "df_A = raw_data_read.all_aux_data()"
   ]
  },
  {
   "cell_type": "code",
   "execution_count": null,
   "id": "e1056580",
   "metadata": {},
   "outputs": [],
   "source": [
    "#split out the healthy and unhealthy samples\n",
    "df_W_healthy=df_W[df_A[\"hs\"]==1]\n",
    "df_W_unhealthy=df_W[df_A[\"hs\"]==0]\n",
    "\n",
    "df_X_s_healthy=df_X_s[df_A[\"hs\"]==1]\n",
    "df_X_s_unhealthy=df_X_s[df_A[\"hs\"]==0]"
   ]
  },
  {
   "cell_type": "code",
   "execution_count": null,
   "id": "2c899cdc",
   "metadata": {},
   "outputs": [],
   "source": [
    "#create combined dataframes for correlation analysis\n",
    "df_W_X_s_healthy = df_W_healthy.join(df_X_s_healthy)\n",
    "df_W_X_s_unhealthy = df_W_unhealthy.join(df_X_s_unhealthy)"
   ]
  },
  {
   "cell_type": "code",
   "execution_count": null,
   "id": "774a886d",
   "metadata": {},
   "outputs": [],
   "source": [
    "#determine units in development dataset\n",
    "raw_data_read.dev_aux_data().unit.unique()"
   ]
  },
  {
   "cell_type": "code",
   "execution_count": null,
   "id": "823b49c6",
   "metadata": {},
   "outputs": [],
   "source": [
    "#determine units in test dataset\n",
    "raw_data_read.test_aux_data().unit.unique()"
   ]
  },
  {
   "cell_type": "code",
   "execution_count": null,
   "id": "5c976a4f",
   "metadata": {},
   "outputs": [],
   "source": [
    "#determine length of development dataset\n",
    "raw_data_read.dev_aux_data().shape[0]"
   ]
  },
  {
   "cell_type": "code",
   "execution_count": null,
   "id": "4755ee2d",
   "metadata": {},
   "outputs": [],
   "source": [
    "#determine length of test dataset\n",
    "raw_data_read.test_aux_data().shape[0]"
   ]
  },
  {
   "cell_type": "code",
   "execution_count": null,
   "id": "3a44d422",
   "metadata": {},
   "outputs": [],
   "source": [
    "#print out the maximum number of cycles [flights] for each unit [engine]\n",
    "for unit in df_A[\"unit\"].unique():\n",
    "    cyc = df_A[df_A[\"unit\"]==unit][\"cycle\"].max()\n",
    "    print(f\"Maximum number of cycles for unit {unit:.0f}: {cyc:.0f}\")"
   ]
  },
  {
   "cell_type": "code",
   "execution_count": null,
   "id": "e236965d",
   "metadata": {},
   "outputs": [],
   "source": [
    "#create a new column in flight descriptor dataframe mirroring \"unit\" from aux. dataframe\n",
    "df_W[\"unit\"]=df_A[\"unit\"].values\n",
    "\n",
    "#isolate a specific cycle for a specific unit in a new dataframe\n",
    "df_W_u = df_W.loc[(df_A.unit==5) & (df_A.cycle == 5)]\n",
    "\n",
    "#reset the index so it can be used as time\n",
    "df_W_u.reset_index(inplace=True, drop=True)\n",
    "\n",
    "#create a series of labels for subplots\n",
    "labels = [\"Altitude [ft]\", \"Mach Number [-]\", \"Throttle Resolver Angle [%]\", \"Temperature at fan inlet (T2) [°R]\"]\n",
    "\n",
    "#create a plot of flight descriptors versus time for isolated unit and cycle\n",
    "plot_df_color_per_unit(df_W_u, df_W_u.columns.drop([\"unit\"]), labels, size=7, labelsize=14)"
   ]
  },
  {
   "cell_type": "code",
   "execution_count": null,
   "id": "5214efe4",
   "metadata": {},
   "outputs": [],
   "source": [
    "#create a new column in physical sensor dataframe mirroring \"unit\" from aux. dataframe\n",
    "df_X_s[\"unit\"]=df_A[\"unit\"].values\n",
    "\n",
    "#isolate a specific cycle for a specific unit in a new dataframe\n",
    "df_X_s_u_c = df_X_s.loc[(df_A.unit == 5) & (df_A.cycle == 5)]\n",
    "\n",
    "#reset the index so it can be used as time\n",
    "df_X_s_u_c.reset_index(inplace=True, drop=True)\n",
    "\n",
    "#create a plot of each physical sensor versus time for unit and cycle of interest\n",
    "plot_df_color_per_unit(df_X_s_u_c, df_X_s.columns.drop([\"unit\"]), df_X_s.columns.drop([\"unit\"]),size=10)"
   ]
  },
  {
   "cell_type": "code",
   "execution_count": null,
   "id": "c636ea7d",
   "metadata": {},
   "outputs": [],
   "source": [
    "#create a plot of health state versus cycle for a specific unit\n",
    "\n",
    "plot_df_color_per_unit(df_A[df_A[\"unit\"]==5], [\"hs\"], [r\"$h_s$ [-]\"], option='cycle')"
   ]
  },
  {
   "cell_type": "code",
   "execution_count": null,
   "id": "028ae19e",
   "metadata": {},
   "outputs": [],
   "source": [
    "#create seperate correlation dataframes for healthy and unhealthy health states of flight descriptors; using Spearman R correlation\n",
    "\n",
    "corr_W_healthy=df_W_healthy.corr(method=\"spearman\")\n",
    "corr_W_unhealthy=df_W_unhealthy.corr(method=\"spearman\")"
   ]
  },
  {
   "cell_type": "code",
   "execution_count": null,
   "id": "39e91204",
   "metadata": {},
   "outputs": [],
   "source": [
    "#create a correlation matrix plot for healthy state for flight descriptors\n",
    "\n",
    "matrix_plot(corr_W_healthy)"
   ]
  },
  {
   "cell_type": "code",
   "execution_count": null,
   "id": "4dd478f9",
   "metadata": {},
   "outputs": [],
   "source": [
    "#create a correlation matrix plot for unhealthy state for flight descriptors\n",
    "\n",
    "matrix_plot(corr_W_unhealthy)"
   ]
  },
  {
   "cell_type": "code",
   "execution_count": null,
   "id": "ff5e9e35",
   "metadata": {},
   "outputs": [],
   "source": [
    "#create seperate correlation dataframes for healthy and unhealthy health states of physical sensors; using Spearman R correlation\n",
    "\n",
    "corr_X_s_healthy=df_X_s_healthy.corr(method=\"spearman\")\n",
    "corr_X_s_unhealthy=df_X_s_unhealthy.corr(method=\"spearman\")"
   ]
  },
  {
   "cell_type": "code",
   "execution_count": null,
   "id": "eb384f78",
   "metadata": {},
   "outputs": [],
   "source": [
    "#create matrix correlation plot for physical sensors during healthy state\n",
    "matrix_plot(corr_X_s_healthy)"
   ]
  },
  {
   "cell_type": "code",
   "execution_count": null,
   "id": "94bf15d0",
   "metadata": {},
   "outputs": [],
   "source": [
    "#create seperate correlation dataframes for both health states for flight descriptors and physical sensors\n",
    "#using Spearman R correlation\n",
    "\n",
    "corr_W_X_s_healthy=df_W_X_s_healthy.corr(method=\"spearman\")\n",
    "corr_W_X_s_unhealthy=df_W_X_s_unhealthy.corr(method=\"spearman\")"
   ]
  },
  {
   "cell_type": "code",
   "execution_count": null,
   "id": "a0cc5151",
   "metadata": {},
   "outputs": [],
   "source": [
    "#create a correlation matrix plot for healthy state for flight descriptors versus physical sensors\n",
    "\n",
    "matrix_plot(corr_W_X_s_healthy.loc[df_W.columns.drop([\"unit\"]),df_X_s.columns.drop([\"unit\"])])"
   ]
  },
  {
   "cell_type": "code",
   "execution_count": null,
   "id": "c1d655a4",
   "metadata": {},
   "outputs": [],
   "source": [
    "#create a correlation matrix plot for unhealthy state for flight descriptors versus physical sensors\n",
    "\n",
    "matrix_plot(corr_W_X_s_unhealthy.loc[df_W.columns.drop([\"unit\"]),df_X_s.columns.drop([\"unit\"])])"
   ]
  },
  {
   "cell_type": "code",
   "execution_count": null,
   "id": "283a1e7a",
   "metadata": {},
   "outputs": [],
   "source": [
    "#create a differential correlation dataframe of healthy and unhealthy flight descriptors and physical sensors\n",
    "\n",
    "corr_W_X_s_delta=corr_W_X_s_healthy-corr_W_X_s_unhealthy"
   ]
  },
  {
   "cell_type": "code",
   "execution_count": null,
   "id": "c519835e",
   "metadata": {},
   "outputs": [],
   "source": [
    "#create a correlation matrix plot for delta in healhty state for flight descriptors versus physical sensors\n",
    "\n",
    "matrix_plot(corr_W_X_s_delta.loc[df_W.columns.drop([\"unit\"]),df_X_s.columns.drop([\"unit\"])],plot_range=[-0.04,0.04])"
   ]
  },
  {
   "cell_type": "code",
   "execution_count": null,
   "id": "bdaee52c",
   "metadata": {},
   "outputs": [],
   "source": []
  }
 ],
 "metadata": {
  "kernelspec": {
   "display_name": "Python 3 (ipykernel)",
   "language": "python",
   "name": "python3"
  },
  "language_info": {
   "codemirror_mode": {
    "name": "ipython",
    "version": 3
   },
   "file_extension": ".py",
   "mimetype": "text/x-python",
   "name": "python",
   "nbconvert_exporter": "python",
   "pygments_lexer": "ipython3",
   "version": "3.9.7"
  }
 },
 "nbformat": 4,
 "nbformat_minor": 5
}
