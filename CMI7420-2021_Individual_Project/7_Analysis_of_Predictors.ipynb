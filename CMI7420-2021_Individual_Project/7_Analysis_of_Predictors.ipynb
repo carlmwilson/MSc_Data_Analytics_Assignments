{
 "cells": [
  {
   "cell_type": "code",
   "execution_count": null,
   "id": "971f8df6",
   "metadata": {},
   "outputs": [],
   "source": [
    "import numpy as np\n",
    "import pandas as pd\n",
    "from pickle import load\n",
    "from tqdm import tqdm\n",
    "from scipy.stats import spearmanr\n",
    "\n",
    "from sklearn.preprocessing import MinMaxScaler\n",
    "\n",
    "#models will be built using Keras\n",
    "from tensorflow import keras\n",
    "import tensorflow as tf\n",
    "\n",
    "import plotly.express as px\n",
    "import plotly.io as pio\n",
    "pio.templates.default=\"simple_white\"\n",
    "\n",
    "from progtools.preprocessing import RawFlightData\n",
    "from progtools.modelling import gpu_check\n",
    "from progtools.scoring import result_stats"
   ]
  },
  {
   "cell_type": "code",
   "execution_count": null,
   "id": "47e4faf9",
   "metadata": {},
   "outputs": [],
   "source": [
    "#check that TensorFlow is able to detect the GPU\n",
    "gpu_check()"
   ]
  },
  {
   "cell_type": "code",
   "execution_count": null,
   "id": "cff5a81b",
   "metadata": {},
   "outputs": [],
   "source": [
    "#master dataframes for dev data\n",
    "#read the raw flight data in\n",
    "filename = \"data/N-CMAPSS_DS05.h5\"\n",
    "raw_data_read = RawFlightData(filename=filename)\n",
    "\n",
    "#create the development dataframes\n",
    "df_W_dev = raw_data_read.dev_flight_data()\n",
    "df_X_s_dev = raw_data_read.dev_sensor_data()\n",
    "df_A_dev = raw_data_read.dev_aux_data()\n",
    "df_Y_dev = raw_data_read.dev_RUL_data()"
   ]
  },
  {
   "cell_type": "code",
   "execution_count": null,
   "id": "e1392963",
   "metadata": {},
   "outputs": [],
   "source": [
    "#load the scaler used in model training\n",
    "scaler_W = load(open(\"sensor_models/scaler_W.pkl\",\"rb\"))\n",
    "development_W = scaler_W.transform(np.asarray(df_W_dev))"
   ]
  },
  {
   "cell_type": "markdown",
   "id": "57666165",
   "metadata": {},
   "source": [
    "# Create Predictions"
   ]
  },
  {
   "cell_type": "code",
   "execution_count": null,
   "id": "19fbb1bc",
   "metadata": {
    "scrolled": true
   },
   "outputs": [],
   "source": [
    "#create a dataframe to store results\n",
    "df_pred = pd.DataFrame(index=df_W_dev.index)\n",
    "\n",
    "#loop through each sensor\n",
    "for s in tqdm(df_X_s_dev.columns):\n",
    "    #load the specific model\n",
    "    X_s_model = keras.models.load_model(f\"sensor_models/{s}_model.h5\")\n",
    "    \n",
    "    #create predictions on the dev set\n",
    "    X_s_pred = X_s_model.predict(development_W)\n",
    "    \n",
    "        #wrangle into a dataframe\n",
    "    df_X_s_deg = pd.DataFrame(data=X_s_pred,\n",
    "                             columns=[s],\n",
    "                             index=df_W_dev.index)\n",
    "    \n",
    "    #append the results\n",
    "    df_pred=df_pred.join(df_X_s_deg)\n",
    "    \n",
    "    #print the progress\n",
    "    print(f\"Sensor: {s} complete\")"
   ]
  },
  {
   "cell_type": "code",
   "execution_count": null,
   "id": "f570ab4f",
   "metadata": {},
   "outputs": [],
   "source": [
    "#convert to numpy array for further calcs\n",
    "X_s_pred = np.asarray(df_pred)\n",
    "X_s_dev = np.asarray(df_X_s_dev)\n",
    "\n",
    "#calculate percentage delta between predicitons and measurements\n",
    "X_s_deg=((X_s_dev-X_s_pred)/X_s_dev)*100\n",
    "\n",
    "#wrangle back into dataframe\n",
    "df_X_s_deg = pd.DataFrame(data=X_s_deg,\n",
    "                         columns=df_X_s_dev.columns,\n",
    "                         index=df_W_dev.index)"
   ]
  },
  {
   "cell_type": "code",
   "execution_count": null,
   "id": "a8ed8f72",
   "metadata": {},
   "outputs": [],
   "source": [
    "#join auxiliary flight data\n",
    "df_X_s_deg = df_X_s_deg.join(df_A_dev[[\"unit\",\"cycle\",\"hs\"]])"
   ]
  },
  {
   "cell_type": "code",
   "execution_count": null,
   "id": "7e23c3e1",
   "metadata": {},
   "outputs": [],
   "source": [
    "#group by to determine mean for each cycle and unit\n",
    "df_X_s_deg = df_X_s_deg.groupby([\"unit\",\"cycle\"],as_index=False).agg(\"mean\")"
   ]
  },
  {
   "cell_type": "markdown",
   "id": "f2bea7b4",
   "metadata": {},
   "source": [
    "# Examine results"
   ]
  },
  {
   "cell_type": "code",
   "execution_count": null,
   "id": "2782ae6b",
   "metadata": {
    "scrolled": false
   },
   "outputs": [],
   "source": [
    "#create individual plots for each sensor for predicted to measured mean delta\n",
    "\n",
    "#loop through each sensor\n",
    "for i in df_X_s_deg.drop(columns=[\"unit\",\"cycle\",\"hs\"]).columns:\n",
    "    \n",
    "    #create a plotly line plot of cycle vs. mean percentage split out by unit\n",
    "    fig1=px.line(df_X_s_deg,\n",
    "                 x=\"cycle\",\n",
    "                 y=i,\n",
    "                 color=\"unit\",\n",
    "                title=f\"Predicted to Measured Mean Delta by Cycle for sensor: {i}\",\n",
    "                #width=540,\n",
    "                #height=480\n",
    "                )\n",
    "    \n",
    "    #adjust x axis title\n",
    "    fig1.update_xaxes(title=\"Cycle [-]\")\n",
    "    \n",
    "    #adjust y axis title and limits\n",
    "    fig1.update_yaxes(title=\"Mean Delta [%]\",\n",
    "                     range=[-2.5,2.5])\n",
    "    fig1.show()"
   ]
  },
  {
   "cell_type": "markdown",
   "id": "c081928d",
   "metadata": {},
   "source": [
    "# Mann-Whitney U Test"
   ]
  },
  {
   "cell_type": "code",
   "execution_count": null,
   "id": "4c1ca712",
   "metadata": {},
   "outputs": [],
   "source": [
    "#complete Mann-Whitney U test for first and last 10 cycles of each unit and sensor\n",
    "mwu_results = result_stats(df_X_s_deg, cycles = 10)"
   ]
  },
  {
   "cell_type": "code",
   "execution_count": null,
   "id": "94f88e83",
   "metadata": {},
   "outputs": [],
   "source": [
    "#create boxplot of p-values for Mann-Whitney U test versus sensor\n",
    "fig1 = px.box(mwu_results,\n",
    "             y=\"p_value\",\n",
    "             x=\"sensor\",\n",
    "             title=\"Boxplot of Spearman Correlation P-Values\")\n",
    "\n",
    "#update x axis label\n",
    "fig1.update_xaxes(title=\"Physical Sensor\")\n",
    "\n",
    "#update y axis label and limits\n",
    "fig1.update_yaxes(title=\"P-Value [-]\",\n",
    "            range=[0,1])\n",
    "\n",
    "#includ a horizontal line at 0.05\n",
    "fig1.add_hline(y=0.05,line_color=\"black\",line_width=2.5)"
   ]
  },
  {
   "cell_type": "code",
   "execution_count": null,
   "id": "b2b09e22",
   "metadata": {},
   "outputs": [],
   "source": [
    "#create a results dataframe\n",
    "mwu_table = []\n",
    "\n",
    "#loop through each sensor\n",
    "for i in mwu_results[\"sensor\"].unique():\n",
    "    \n",
    "    #determine median Mann-Whitney U value\n",
    "    median = mwu_results[mwu_results[\"sensor\"]==i][\"U\"].median()\n",
    "    \n",
    "    #determine mean Mann-Whitney U value\n",
    "    mean = mwu_results[mwu_results[\"sensor\"]==i][\"U\"].mean()\n",
    "    \n",
    "    #append results to list\n",
    "    mwu_table.append([i, median, mean])\n",
    "    \n",
    "mwu_table = pd.DataFrame(mwu_table, columns=[\"sensor\", \"median_u\", \"mean_U\"])\n",
    "mwu_table"
   ]
  },
  {
   "cell_type": "markdown",
   "id": "0454afc6",
   "metadata": {},
   "source": [
    "# Correlation to RUL"
   ]
  },
  {
   "cell_type": "code",
   "execution_count": null,
   "id": "3cda5a7d",
   "metadata": {},
   "outputs": [],
   "source": [
    "#join auxiliary data to target data \n",
    "df_RUL = df_Y_dev.join(df_A_dev[[\"unit\",\"cycle\"]])"
   ]
  },
  {
   "cell_type": "code",
   "execution_count": null,
   "id": "ad2c3297",
   "metadata": {},
   "outputs": [],
   "source": [
    "#trim down to one RUL per unit and cycle\n",
    "df_RUL_mean = df_RUL.groupby([\"unit\",\"cycle\"],as_index=False).agg(\"mean\")"
   ]
  },
  {
   "cell_type": "code",
   "execution_count": null,
   "id": "3e21a8fd",
   "metadata": {
    "scrolled": true
   },
   "outputs": [],
   "source": [
    "#store Spearman Ranked Correlation results in new dataframe\n",
    "sr_results = []\n",
    "\n",
    "#loop through each unit\n",
    "for u in tqdm(df_RUL_mean.unit.unique()):\n",
    "    #isolate the RUL\n",
    "    rul = df_RUL_mean[df_RUL_mean[\"unit\"]==u][\"RUL\"]\n",
    "    \n",
    "    #loop through each sensor\n",
    "    for s in df_X_s_deg.drop(columns=[\"unit\",\"cycle\",\"hs\"]).columns:\n",
    "        #isolate the delta for the selected sensor between prediction and measurement\n",
    "        sens = df_X_s_deg[(df_X_s_deg[\"unit\"]==u)][s]\n",
    "        \n",
    "        #determine the Spearman R statistic and p-value for RUL and sensor \n",
    "        corr,p_value = spearmanr(rul,sens)\n",
    "        \n",
    "        #append results to list\n",
    "        sr_results.append([u, s, round(corr, 5), round(p_value, 5)])\n",
    "\n",
    "df_sr_results=pd.DataFrame(sr_results, columns=[\"unit\", \"sensor\", \"R\", \"p_value\"])"
   ]
  },
  {
   "cell_type": "code",
   "execution_count": null,
   "id": "bb7dd234",
   "metadata": {},
   "outputs": [],
   "source": [
    "#create a new table to capture Spearman summary stats\n",
    "sr_table = []\n",
    "\n",
    "#loop through each sensor\n",
    "for i in df_sr_results[\"sensor\"].unique():\n",
    "    #determine median R stat for given sensor\n",
    "    median = df_sr_results[df_sr_results[\"sensor\"]==i][\"R\"].median()\n",
    "    \n",
    "    #determine mean R stat for given sensor\n",
    "    mean = df_sr_results[df_sr_results[\"sensor\"]==i][\"R\"].mean()\n",
    "    \n",
    "    #append results to list\n",
    "    sr_table.append([i, median, mean])\n",
    "    \n",
    "sr_table = pd.DataFrame(sr_table, columns=[\"sensor\", \"median_R\", \"mean_R\"])\n",
    "sr_table"
   ]
  },
  {
   "cell_type": "code",
   "execution_count": null,
   "id": "b7deb288",
   "metadata": {},
   "outputs": [],
   "source": [
    "#create boxplot of p-values by sensor\n",
    "fig2 = px.box(df_sr_results,\n",
    "             y=\"p_value\",\n",
    "             x=\"sensor\",\n",
    "             title=\"Boxplot of Spearman Correlation P-Values\")\n",
    "\n",
    "#adjust x axes label\n",
    "fig2.update_xaxes(title=\"Physical Sensor\")\n",
    "\n",
    "#adjust y axes label and limits\n",
    "fig2.update_yaxes(title=\"P-Value [-]\",\n",
    "            range=[0,1])\n",
    "\n",
    "#include horizontal line at 0.05\n",
    "fig2.add_hline(y=0.05,line_color=\"black\",line_width=2.5)"
   ]
  },
  {
   "cell_type": "code",
   "execution_count": null,
   "id": "20d8d654",
   "metadata": {},
   "outputs": [],
   "source": [
    "#create a boxplot of Spearman R values, by sensor, for sensors with p-values <0.05\n",
    "fig3 = px.box(df_sr_results[df_sr_results[\"p_value\"]<=0.05],\n",
    "             y=\"R\",\n",
    "             x=\"sensor\",\n",
    "             title=f\"Boxplot of Spearman Correlation Rho Scores for observations where P-Value ≤ 0.05\")\n",
    "\n",
    "#adjust x axes label\n",
    "fig3.update_xaxes(title=\"Physical Sensor\")\n",
    "\n",
    "#update y axes label and limits\n",
    "fig3.update_yaxes(title=\"Rho [-]\",\n",
    "            range=[-1,1])\n",
    "\n",
    "#include horizontal line at 0.5\n",
    "fig3.add_hline(y=0.5,line_color=\"black\",line_width=2.5)\n",
    "\n",
    "#include horizontal line at -0.5\n",
    "fig3.add_hline(y=-0.5,line_color=\"black\",line_width=2.5)"
   ]
  }
 ],
 "metadata": {
  "kernelspec": {
   "display_name": "Python 3 (ipykernel)",
   "language": "python",
   "name": "python3"
  },
  "language_info": {
   "codemirror_mode": {
    "name": "ipython",
    "version": 3
   },
   "file_extension": ".py",
   "mimetype": "text/x-python",
   "name": "python",
   "nbconvert_exporter": "python",
   "pygments_lexer": "ipython3",
   "version": "3.9.7"
  }
 },
 "nbformat": 4,
 "nbformat_minor": 5
}
