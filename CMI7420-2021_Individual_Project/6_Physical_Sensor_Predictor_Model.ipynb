{
 "cells": [
  {
   "cell_type": "code",
   "execution_count": null,
   "id": "f8e38dfe",
   "metadata": {},
   "outputs": [],
   "source": [
    "import numpy as np\n",
    "import pandas as pd\n",
    "from tqdm import tqdm\n",
    "from pickle import dump, load\n",
    "import scipy.stats as stats\n",
    "\n",
    "from sklearn.preprocessing import MinMaxScaler\n",
    "from tensorflow import keras\n",
    "import tensorflow as tf\n",
    "from keras_tuner import BayesianOptimization, Objective\n",
    "\n",
    "import plotly.express as px\n",
    "import plotly.io as pio\n",
    "pio.templates.default=\"simple_white\"\n",
    "\n",
    "from progtools.preprocessing import RawFlightData\n",
    "from progtools.modelling import gpu_check, PhysicalSensorHyperModel"
   ]
  },
  {
   "cell_type": "code",
   "execution_count": null,
   "id": "ccaa17b2",
   "metadata": {},
   "outputs": [],
   "source": [
    "gpu_check()"
   ]
  },
  {
   "cell_type": "code",
   "execution_count": null,
   "id": "f6785dae",
   "metadata": {},
   "outputs": [],
   "source": [
    "#read the raw flight data in\n",
    "filename = \"data/N-CMAPSS_DS05.h5\"\n",
    "raw_data_read = RawFlightData(filename=filename)\n",
    "\n",
    "#create the development dataframes\n",
    "df_W_dev = raw_data_read.dev_flight_data()\n",
    "df_X_s_dev = raw_data_read.dev_sensor_data()\n",
    "df_A_dev = raw_data_read.dev_aux_data()"
   ]
  },
  {
   "cell_type": "code",
   "execution_count": null,
   "id": "2848ae3e",
   "metadata": {},
   "outputs": [],
   "source": [
    "#downsample to 10% for faster model iteration\n",
    "sample_index = np.arange(1,max(df_A_dev.index),10)\n",
    "\n",
    "df_A_dev = df_A_dev.loc[sample_index]\n",
    "df_W_dev = df_W_dev.loc[sample_index]\n",
    "df_X_s_dev = df_X_s_dev.loc[sample_index]\n",
    "\n",
    "#split out the healthy samples for the healthy behaviour model\n",
    "df_A_healthy=df_A_dev[df_A_dev[\"hs\"]==1]\n",
    "df_W_healthy=df_W_dev[df_A_dev[\"hs\"]==1]\n",
    "df_X_s_healthy=df_X_s_dev[df_A_dev[\"hs\"]==1]"
   ]
  },
  {
   "cell_type": "code",
   "execution_count": null,
   "id": "9ea35134",
   "metadata": {
    "scrolled": true
   },
   "outputs": [],
   "source": [
    "for unit in df_A_dev[\"unit\"].unique():\n",
    "    cyc = df_A_dev[(df_A_dev[\"unit\"]==unit) & (df_A_dev[\"hs\"]==1)][\"cycle\"].max()\n",
    "    print(f\"Maximum number of healthy cycles for unit {unit:.0f}: {cyc:.0f}\")"
   ]
  },
  {
   "cell_type": "markdown",
   "id": "42c495ab",
   "metadata": {},
   "source": [
    "# Splitting Training / Test Sets & Scaling"
   ]
  },
  {
   "cell_type": "code",
   "execution_count": null,
   "id": "34a9a021",
   "metadata": {},
   "outputs": [],
   "source": [
    "#use units 1-4 for training then units 5 and 6 for testing\n",
    "training_W = np.asarray(df_W_healthy[df_A_healthy[\"unit\"]<=4])\n",
    "test_W = np.asarray(df_W_healthy[df_A_healthy[\"unit\"]>4])\n",
    "\n",
    "training_X_s = np.asarray(df_X_s_healthy[df_A_healthy[\"unit\"]<=4])\n",
    "test_X_s = np.asarray(df_X_s_healthy[df_A_healthy[\"unit\"]>4])"
   ]
  },
  {
   "cell_type": "code",
   "execution_count": null,
   "id": "a4efc9ec",
   "metadata": {},
   "outputs": [],
   "source": [
    "#create a scaler\n",
    "scaler_W = MinMaxScaler().fit(training_W)\n",
    "\n",
    "#store the scaler\n",
    "dump(scaler_W, open(\"sensor_models/scaler_W.pkl\",\"wb\"))"
   ]
  },
  {
   "cell_type": "code",
   "execution_count": null,
   "id": "a7c3fda7",
   "metadata": {},
   "outputs": [],
   "source": [
    "#scale the inputs\n",
    "training_W = scaler_W.transform(training_W)\n",
    "test_W = scaler_W.transform(test_W)\n",
    "\n",
    "print(f\"Input training shape: {training_W.shape}\")\n",
    "print(f\"Output training shape: {training_X_s.shape}\")\n",
    "\n",
    "print(f\"Input test shape: {test_W.shape}\")\n",
    "print(f\"Output test shape: {test_X_s.shape}\")"
   ]
  },
  {
   "cell_type": "markdown",
   "id": "f5d572a5",
   "metadata": {},
   "source": [
    "# Model"
   ]
  },
  {
   "cell_type": "code",
   "execution_count": null,
   "id": "8bd6058a",
   "metadata": {
    "scrolled": true
   },
   "outputs": [],
   "source": [
    "#loop through each sensor, optimizing a hyper-model and storing it for later use\n",
    "for s in tqdm(df_X_s_healthy.columns):\n",
    "    #filter only select sensors\n",
    "    df_working=df_X_s_healthy[[s]]\n",
    "    \n",
    "    #use units 1-4 for training\n",
    "    training_X_s = np.asarray(df_working[df_A_healthy[\"unit\"]<=4])\n",
    "    \n",
    "    #create the initial model gridsearch\n",
    "    hyper_model_search=BayesianOptimization(PhysicalSensorHyperModel(),\n",
    "                                            objective=Objective(\"val_mse\",\n",
    "                                                                direction=\"min\"),\n",
    "                                            max_trials=50,\n",
    "                                            seed=42,\n",
    "                                            directory=\"sensor_searches\",\n",
    "                                            project_name=s,\n",
    "                                            overwrite=False)\n",
    "    #complete the gridsearch\n",
    "    hyper_model_search.search(training_W,\n",
    "                              training_X_s,\n",
    "                              validation_split=0.2)\n",
    "    \n",
    "    #set the baseline model to be the best model from the gridsearch\n",
    "    model_out = hyper_model_search.get_best_models(num_models=1)[0]\n",
    "    \n",
    "    model_out.predict(training_W)\n",
    "    \n",
    "    #print summary for each sensor\n",
    "    print(f\"Summary for sensor: {s}\")\n",
    "\n",
    "    #save model for later use\n",
    "    model_out.save(f\"sensor_models/{s}_model.h5\")"
   ]
  },
  {
   "cell_type": "markdown",
   "id": "26d17820",
   "metadata": {},
   "source": [
    "# Testing Model Quality"
   ]
  },
  {
   "cell_type": "code",
   "execution_count": null,
   "id": "2bf215f2",
   "metadata": {},
   "outputs": [],
   "source": [
    "#reset dataframes from 0.1Hz to 1hz\n",
    "df_W_dev = raw_data_read.dev_flight_data()\n",
    "df_X_s_dev = raw_data_read.dev_sensor_data()\n",
    "df_A_dev = raw_data_read.dev_aux_data()\n",
    "\n",
    "#split out the healthy samples for development sets only\n",
    "df_A_healthy=df_A_dev[df_A_dev[\"hs\"]==1]\n",
    "df_W_healthy=df_W_dev[df_A_dev[\"hs\"]==1]\n",
    "df_X_s_healthy=df_X_s_dev[df_A_dev[\"hs\"]==1]\n",
    "\n",
    "W_healthy = np.asarray(df_W_healthy)"
   ]
  },
  {
   "cell_type": "code",
   "execution_count": null,
   "id": "1b4c7070",
   "metadata": {},
   "outputs": [],
   "source": [
    "#load the scaler used in model training\n",
    "scaler_W = load(open(\"sensor_models/scaler_W.pkl\",\"rb\"))\n",
    "testing_W = scaler_W.transform(W_healthy)"
   ]
  },
  {
   "cell_type": "code",
   "execution_count": null,
   "id": "d7ced456",
   "metadata": {
    "scrolled": true
   },
   "outputs": [],
   "source": [
    "#create a dataframe for predictions using each model\n",
    "df_test_results=pd.DataFrame(index=df_W_healthy.index)\n",
    "\n",
    "#loop through each sensor\n",
    "for s in tqdm(df_X_s_healthy.columns):\n",
    "    \n",
    "    #filter only select sensors\n",
    "    df_working=df_X_s_healthy[[s]]    \n",
    "    testing_X_s = np.asarray(df_working)\n",
    "    \n",
    "    #load the specific model sensor model\n",
    "    X_s_model = keras.models.load_model(f\"sensor_models/{s}_model.h5\")\n",
    "    \n",
    "    #create predictions on the training set\n",
    "    X_s_pred = X_s_model.predict(testing_W)\n",
    "    \n",
    "    #determine the delta between prediction and ground truth [absolute of yhat minus y]\n",
    "    X_s_delta = abs(X_s_pred-testing_X_s)\n",
    "    \n",
    "    #normalize the results\n",
    "    X_s_delta_normal=X_s_delta/testing_X_s\n",
    "    \n",
    "    #wrangle into dataframe\n",
    "    df_out = pd.DataFrame(data=X_s_delta_normal,\n",
    "                          columns=[s],\n",
    "                         index=df_W_healthy.index)\n",
    "    \n",
    "    #append dataframe to master resuls dataframe\n",
    "    df_test_results=df_test_results.join(df_out)\n",
    "    \n",
    "    #print progress\n",
    "    print(f\"Sensor: {s} complete\")"
   ]
  },
  {
   "cell_type": "code",
   "execution_count": null,
   "id": "b6a8307a",
   "metadata": {
    "scrolled": true
   },
   "outputs": [],
   "source": [
    "#normalise to MAPE\n",
    "df_test_results=df_test_results*100\n",
    "\n",
    "#join unit and cycle columns to the delta dataframe\n",
    "df_test_results=df_test_results.join(df_A_healthy[[\"unit\",\"cycle\"]])"
   ]
  },
  {
   "cell_type": "code",
   "execution_count": null,
   "id": "2d140a1e",
   "metadata": {},
   "outputs": [],
   "source": [
    "#group all results by unit and then cycle, calculating the mean MAPE\n",
    "df_test_results=df_test_results.groupby([\"unit\",\"cycle\"],as_index=False).agg(\"mean\")"
   ]
  },
  {
   "cell_type": "code",
   "execution_count": null,
   "id": "b6b3e738",
   "metadata": {},
   "outputs": [],
   "source": [
    "#create a dataframe to store resuts\n",
    "gen = []\n",
    "\n",
    "#loop through all sensors\n",
    "for i in df_test_results.columns.drop([\"unit\",\"cycle\"]):\n",
    "    df_A=df_test_results[df_test_results[\"unit\"]<5][i] #split out training data\n",
    "    df_B=df_test_results[df_test_results[\"unit\"]>4][i] #split out test data\n",
    "    \n",
    "    mean_MAPE_A = df_A.mean() #calculate the mean MAPE for training data\n",
    "    mean_MAPE_B = df_B.mean() #calculate the mean MAPE for test data\n",
    "    \n",
    "    #complete Mann-Whitney U test for training versus test data\n",
    "    test_stat, p_val = stats.mannwhitneyu(df_A,df_B)\n",
    "    \n",
    "    #append results to master dataframe\n",
    "    \n",
    "    gen.append([i, mean_MAPE_A, mean_MAPE_B, test_stat, p_val])\n",
    "\n",
    "df_gen = pd.DataFrame(data=gen, columns=[\"sensor\", \"average_MAPE_train\", \"average_MAPE_test\", \"test_stat\", \"p-value\"])"
   ]
  },
  {
   "cell_type": "code",
   "execution_count": null,
   "id": "02a703a3",
   "metadata": {},
   "outputs": [],
   "source": [
    "df_test_results"
   ]
  },
  {
   "cell_type": "code",
   "execution_count": null,
   "id": "1bdd0b99",
   "metadata": {},
   "outputs": [],
   "source": [
    "#create a boxplot of each sensor versus MAPE by individual units in the development set\n",
    "fig1 = px.box(df_test_results,\n",
    "             y=[\"T24\",\"T30\",\"T48\",\"T50\",\"Nf\",\"Nc\",\"Wf\"],\n",
    "             color=\"unit\",\n",
    "             title=\"Boxplot of Mean Absolute Percentage Error by Sensor: Individual Models\")\n",
    "\n",
    "fig1.update_xaxes(title=\"Physical Sensor\")\n",
    "fig1.update_yaxes(title=\"MAPE [%]\",\n",
    "            #range=[0,12]\n",
    "            )"
   ]
  },
  {
   "cell_type": "code",
   "execution_count": null,
   "id": "adc4f2b7",
   "metadata": {},
   "outputs": [],
   "source": [
    "#create a boxplot of each sensor versus MAPE by individual units in the development set\n",
    "fig2 = px.box(df_test_results,\n",
    "             y=[\"P15\",\"P2\",\"P21\",\"P24\",\"Ps30\",\"P40\",\"P50\"],\n",
    "             color=\"unit\",\n",
    "             title=\"Boxplot of Mean Absolute Percentage Error by Sensor: Individual Models\")\n",
    "\n",
    "fig2.update_xaxes(title=\"Physical Sensor\")\n",
    "fig2.update_yaxes(title=\"MAPE [%]\",\n",
    "            #range=[0,12]\n",
    "            )"
   ]
  },
  {
   "cell_type": "code",
   "execution_count": null,
   "id": "70d938df",
   "metadata": {
    "scrolled": false
   },
   "outputs": [],
   "source": [
    "#create lineplots of each sensor for Cycle versus MAPE by individual units \n",
    "for i in df_test_results.drop(columns=[\"unit\",\"cycle\"]).columns:\n",
    "    fig3=px.line(df_test_results,\n",
    "                 x=\"cycle\",\n",
    "                 y=i,\n",
    "                 color=\"unit\",\n",
    "                title=f\"Mean Absolute Percentage Error by Cycle for Sensor: {i}\",\n",
    "                )\n",
    "    \n",
    "    fig3.update_xaxes(title=\"Cycle [-]\")\n",
    "    fig3.update_yaxes(title=\"MAPE [%]\",\n",
    "                     #range=[0,2]\n",
    "                     )\n",
    "    fig3.show()"
   ]
  },
  {
   "cell_type": "code",
   "execution_count": null,
   "id": "b3df405f",
   "metadata": {},
   "outputs": [],
   "source": []
  }
 ],
 "metadata": {
  "kernelspec": {
   "display_name": "Python 3 (ipykernel)",
   "language": "python",
   "name": "python3"
  },
  "language_info": {
   "codemirror_mode": {
    "name": "ipython",
    "version": 3
   },
   "file_extension": ".py",
   "mimetype": "text/x-python",
   "name": "python",
   "nbconvert_exporter": "python",
   "pygments_lexer": "ipython3",
   "version": "3.9.15"
  }
 },
 "nbformat": 4,
 "nbformat_minor": 5
}
